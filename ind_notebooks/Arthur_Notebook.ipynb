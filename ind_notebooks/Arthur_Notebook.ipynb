{
 "cells": [
  {
   "cell_type": "markdown",
   "id": "c36b3769-3bce-4fde-8fc4-6e1a91529230",
   "metadata": {},
   "source": [
    "# [Insert Title]"
   ]
  },
  {
   "cell_type": "markdown",
   "id": "f22aedf8-5560-4124-af7f-e4224807048a",
   "metadata": {
    "tags": []
   },
   "source": [
    "### Authors"
   ]
  },
  {
   "cell_type": "markdown",
   "id": "ea2c7579-8870-46bd-b1e8-9e5b41852e95",
   "metadata": {},
   "source": [
    "* Mia Fryer\n",
    "* Arthur Kim\n",
    "* Ian Sharff"
   ]
  },
  {
   "cell_type": "markdown",
   "id": "f3986674-ad38-4610-a604-24cb172f6034",
   "metadata": {},
   "source": [
    "## Overview"
   ]
  },
  {
   "cell_type": "markdown",
   "id": "6556b6ff-ec30-4d9c-8a76-9e064076ba61",
   "metadata": {},
   "source": [
    "## Business Problem"
   ]
  },
  {
   "cell_type": "markdown",
   "id": "1e2af742-fcbe-4784-bbc2-4617e72b7f25",
   "metadata": {
    "jp-MarkdownHeadingCollapsed": true,
    "tags": []
   },
   "source": [
    "## Data Understanding"
   ]
  },
  {
   "cell_type": "markdown",
   "id": "de1ec5c9-04c4-4ddb-aa45-508351e51c11",
   "metadata": {
    "tags": []
   },
   "source": [
    "## Import"
   ]
  },
  {
   "cell_type": "code",
   "execution_count": 1,
   "id": "2ca2b13c-2ac5-4463-84b4-84fa49630461",
   "metadata": {},
   "outputs": [],
   "source": [
    "import pandas as pd\n",
    "import os, shutil, random"
   ]
  },
  {
   "cell_type": "code",
   "execution_count": 2,
   "id": "371b56ce-12b3-46af-a2c7-84cd5a4281d9",
   "metadata": {},
   "outputs": [
    {
     "name": "stdout",
     "output_type": "stream",
     "text": [
      "/Users/arthur/Documents/Flatiron/phase_4/Project/CT_image_classifier/data/reorganized_files\n"
     ]
    }
   ],
   "source": [
    "cd ../data/reorganized_files"
   ]
  },
  {
   "cell_type": "code",
   "execution_count": 3,
   "id": "08e51f27-2062-4fc9-808d-d29e78aa04eb",
   "metadata": {},
   "outputs": [],
   "source": [
    "imgs_pneu = [file for file in os.listdir('PNEUMONIA') if file.endswith('.jpeg')]\n",
    "imgs_non_pneu = [file for file in os.listdir('NORMAL') if file.endswith('.jpeg')]"
   ]
  },
  {
   "cell_type": "code",
   "execution_count": 4,
   "id": "c7a5e597-f0c9-4aaf-96c7-dbc9388faa6b",
   "metadata": {},
   "outputs": [
    {
     "name": "stdout",
     "output_type": "stream",
     "text": [
      "There are 4273 pneumonia positive images\n",
      "There are 1583 pneumonia negative images\n"
     ]
    }
   ],
   "source": [
    "print('There are', len(imgs_pneu), 'pneumonia positive images')\n",
    "print('There are', len(imgs_non_pneu), 'pneumonia negative images')"
   ]
  },
  {
   "cell_type": "code",
   "execution_count": 5,
   "id": "f5c4411d-5c89-4519-948d-46dcae181fb6",
   "metadata": {},
   "outputs": [
    {
     "name": "stdout",
     "output_type": "stream",
     "text": [
      "Proportion of images that are COVID-19 Positve Images: 0.73\n",
      "Proportion of images that are COVID-19 Negative Images: 0.27\n"
     ]
    }
   ],
   "source": [
    "print('Proportion of images that are COVID-19 Positve Images:', round(len(imgs_pneu)/(len(imgs_pneu)+len(imgs_non_pneu)),2))\n",
    "print('Proportion of images that are COVID-19 Negative Images:', round(len(imgs_non_pneu)/(len(imgs_pneu)+len(imgs_non_pneu)),2))"
   ]
  },
  {
   "cell_type": "code",
   "execution_count": 6,
   "id": "2e047f18-e7ee-46a3-b452-0f7c4c1e818a",
   "metadata": {},
   "outputs": [
    {
     "data": {
      "text/plain": [
       "2.7"
      ]
     },
     "execution_count": 6,
     "metadata": {},
     "output_type": "execute_result"
    }
   ],
   "source": [
    "round(len(imgs_pneu)/len(imgs_non_pneu),1)"
   ]
  },
  {
   "cell_type": "code",
   "execution_count": 7,
   "id": "06dc4bc6-0e4c-41fb-81a9-97566c6e4e0a",
   "metadata": {},
   "outputs": [],
   "source": [
    "new_dir = 'split/'\n",
    "org_pneu = 'PNEUMONIA/'\n",
    "org_norm = 'NORMAL/'"
   ]
  },
  {
   "cell_type": "code",
   "execution_count": 8,
   "id": "4ad74e9b-5ed1-4524-a02d-ea17efa7a70e",
   "metadata": {},
   "outputs": [
    {
     "ename": "FileExistsError",
     "evalue": "[Errno 17] File exists: 'split/'",
     "output_type": "error",
     "traceback": [
      "\u001b[0;31m---------------------------------------------------------------------------\u001b[0m",
      "\u001b[0;31mFileExistsError\u001b[0m                           Traceback (most recent call last)",
      "\u001b[0;32m<ipython-input-8-0d1f8d3cb245>\u001b[0m in \u001b[0;36m<module>\u001b[0;34m\u001b[0m\n\u001b[0;32m----> 1\u001b[0;31m \u001b[0mos\u001b[0m\u001b[0;34m.\u001b[0m\u001b[0mmkdir\u001b[0m\u001b[0;34m(\u001b[0m\u001b[0mnew_dir\u001b[0m\u001b[0;34m)\u001b[0m\u001b[0;34m\u001b[0m\u001b[0;34m\u001b[0m\u001b[0m\n\u001b[0m",
      "\u001b[0;31mFileExistsError\u001b[0m: [Errno 17] File exists: 'split/'"
     ]
    }
   ],
   "source": [
    "os.mkdir(new_dir)"
   ]
  },
  {
   "cell_type": "code",
   "execution_count": 9,
   "id": "1629979e-98bd-417f-ad17-8dbe3386c4e9",
   "metadata": {},
   "outputs": [],
   "source": [
    "train_folder = os.path.join(new_dir, 'train')\n",
    "train_pneu = os.path.join(train_folder, 'PNEUMONIA')\n",
    "train_non_pneu = os.path.join(train_folder, 'NORMAL')\n",
    "\n",
    "test_folder = os.path.join(new_dir, 'test')\n",
    "test_pneu = os.path.join(test_folder, 'PNEUMONIA')\n",
    "test_non_pneu = os.path.join(test_folder, 'NORMAL')\n",
    "\n",
    "val_folder = os.path.join(new_dir, 'val')\n",
    "val_pneu = os.path.join(val_folder, 'PNEUMONIA')\n",
    "val_non_pneu = os.path.join(val_folder, 'NORMAL')"
   ]
  },
  {
   "cell_type": "code",
   "execution_count": 17,
   "id": "813cf4a1-e663-4654-b746-c71393386e0b",
   "metadata": {},
   "outputs": [],
   "source": [
    "os.mkdir(train_folder)\n",
    "os.mkdir(train_pneu)\n",
    "os.mkdir(train_non_pneu)\n",
    "\n",
    "os.mkdir(val_folder)\n",
    "os.mkdir(val_pneu)\n",
    "os.mkdir(val_non_pneu)\n",
    "\n",
    "os.mkdir(test_folder)\n",
    "os.mkdir(test_pneu)\n",
    "os.mkdir(test_non_pneu)"
   ]
  },
  {
   "cell_type": "code",
   "execution_count": 18,
   "id": "8e164c91-b3c7-4a3a-a5ff-ba08af1a2e59",
   "metadata": {},
   "outputs": [],
   "source": [
    "random.shuffle(imgs_pneu)\n",
    "random.shuffle(imgs_non_pneu)"
   ]
  },
  {
   "cell_type": "markdown",
   "id": "4c76bb3f-e814-4caa-9fd0-429a9d9b9b90",
   "metadata": {},
   "source": [
    "We want to split the train:validation:test ratio to 60:20:20 for both the pneumonia and non-pneumonia."
   ]
  },
  {
   "cell_type": "code",
   "execution_count": 19,
   "id": "5c4076a5-b84c-4ddb-b409-14126a4d749c",
   "metadata": {},
   "outputs": [
    {
     "name": "stdout",
     "output_type": "stream",
     "text": [
      "Train pneumonia should have 2564 images\n",
      "Validation pneumonia should have 855 images\n",
      "Test pneumonia should have 855 images\n",
      "Train pneumonia should have 950 images\n",
      "Validation pneumonia should have 317 images\n",
      "Test pneumonia should have 317 images\n"
     ]
    }
   ],
   "source": [
    "print(\"Train pneumonia should have\", round(len(imgs_pneu)*0.6),\"images\")\n",
    "print(\"Validation pneumonia should have\", round(len(imgs_pneu)*0.2),\"images\")\n",
    "print(\"Test pneumonia should have\", round(len(imgs_pneu)*0.2),\"images\")\n",
    "print(\"Train pneumonia should have\", round(len(imgs_non_pneu)*0.6),\"images\")\n",
    "print(\"Validation pneumonia should have\", round(len(imgs_non_pneu)*0.2),\"images\")\n",
    "print(\"Test pneumonia should have\", round(len(imgs_non_pneu)*0.2),\"images\")"
   ]
  },
  {
   "cell_type": "code",
   "execution_count": 20,
   "id": "96ff4c8c-adb6-4c48-b140-090be53c7158",
   "metadata": {},
   "outputs": [],
   "source": [
    "# train pneumonia\n",
    "imgs = imgs_pneu[:2564]\n",
    "for img in imgs:\n",
    "    origin = os.path.join(org_pneu, img)\n",
    "    destination = os.path.join(train_pneu, img)\n",
    "    shutil.copyfile(origin, destination)\n",
    "    \n",
    "# validation pneumonia\n",
    "imgs = imgs_pneu[2564:3419]\n",
    "for img in imgs:\n",
    "    origin = os.path.join(org_pneu, img)\n",
    "    destination = os.path.join(val_pneu, img)\n",
    "    shutil.copyfile(origin, destination)\n",
    "\n",
    "# test pneumonia\n",
    "imgs = imgs_pneu[3419:]\n",
    "for img in imgs:\n",
    "    origin = os.path.join(org_pneu, img)\n",
    "    destination = os.path.join(test_pneu, img)\n",
    "    shutil.copyfile(origin, destination)"
   ]
  },
  {
   "cell_type": "code",
   "execution_count": 21,
   "id": "4411b40e-e540-4f8e-9aef-c862468730a8",
   "metadata": {},
   "outputs": [],
   "source": [
    "# train non-pneumonia\n",
    "imgs = imgs_non_pneu[:950]\n",
    "for img in imgs:\n",
    "    origin = os.path.join(org_norm, img)\n",
    "    destination = os.path.join(train_non_pneu, img)\n",
    "    shutil.copyfile(origin, destination)\n",
    "    \n",
    "# validation non-pneumonia\n",
    "imgs = imgs_non_pneu[950:1267]\n",
    "for img in imgs:\n",
    "    origin = os.path.join(org_norm, img)\n",
    "    destination = os.path.join(val_non_pneu, img)\n",
    "    shutil.copyfile(origin, destination)\n",
    "    \n",
    "# test non-pneumonia\n",
    "imgs = imgs_non_pneu[1267:]\n",
    "for img in imgs:\n",
    "    origin = os.path.join(org_norm, img)\n",
    "    destination = os.path.join(test_non_pneu, img)\n",
    "    shutil.copyfile(origin, destination)"
   ]
  },
  {
   "cell_type": "code",
   "execution_count": 22,
   "id": "dd523d72-f269-4f1e-b890-feb44a3bce1e",
   "metadata": {},
   "outputs": [
    {
     "name": "stdout",
     "output_type": "stream",
     "text": [
      "There are 2564 pneumonia images in the training set\n",
      "There are 855 pneumonia images in the validation set\n",
      "There are 854 pneumonia images in the testing set\n",
      "There are 950 non-pneumonia images in the training set\n",
      "There are 317 non-pneumonia images in the validation set\n",
      "There are 316 non-pneumonia images in the testing set\n"
     ]
    }
   ],
   "source": [
    "print('There are', len(os.listdir(train_pneu)), 'pneumonia images in the training set')\n",
    "print('There are', len(os.listdir(val_pneu)), 'pneumonia images in the validation set')\n",
    "print('There are', len(os.listdir(test_pneu)), 'pneumonia images in the testing set')\n",
    "print('There are', len(os.listdir(train_non_pneu)), 'non-pneumonia images in the training set')\n",
    "print('There are', len(os.listdir(val_non_pneu)), 'non-pneumonia images in the validation set')\n",
    "print('There are', len(os.listdir(test_non_pneu)), 'non-pneumonia images in the testing set')"
   ]
  }
 ],
 "metadata": {
  "kernelspec": {
   "display_name": "main_env",
   "language": "python",
   "name": "main_env"
  },
  "language_info": {
   "codemirror_mode": {
    "name": "ipython",
    "version": 3
   },
   "file_extension": ".py",
   "mimetype": "text/x-python",
   "name": "python",
   "nbconvert_exporter": "python",
   "pygments_lexer": "ipython3",
   "version": "3.8.11"
  }
 },
 "nbformat": 4,
 "nbformat_minor": 5
}
