{
 "cells": [
  {
   "cell_type": "markdown",
   "id": "c36b3769-3bce-4fde-8fc4-6e1a91529230",
   "metadata": {},
   "source": [
    "# [Insert Title]"
   ]
  },
  {
   "cell_type": "markdown",
   "id": "f22aedf8-5560-4124-af7f-e4224807048a",
   "metadata": {
    "tags": []
   },
   "source": [
    "### Authors"
   ]
  },
  {
   "cell_type": "markdown",
   "id": "ea2c7579-8870-46bd-b1e8-9e5b41852e95",
   "metadata": {},
   "source": [
    "* Mia Fryer\n",
    "* Arthur Kim\n",
    "* Ian Sharff"
   ]
  },
  {
   "cell_type": "markdown",
   "id": "f3986674-ad38-4610-a604-24cb172f6034",
   "metadata": {},
   "source": [
    "## Overview"
   ]
  },
  {
   "cell_type": "markdown",
   "id": "6556b6ff-ec30-4d9c-8a76-9e064076ba61",
   "metadata": {},
   "source": [
    "## Business Problem"
   ]
  },
  {
   "cell_type": "markdown",
   "id": "1e2af742-fcbe-4784-bbc2-4617e72b7f25",
   "metadata": {
    "jp-MarkdownHeadingCollapsed": true,
    "tags": []
   },
   "source": [
    "## Data Understanding"
   ]
  },
  {
   "cell_type": "markdown",
   "id": "de1ec5c9-04c4-4ddb-aa45-508351e51c11",
   "metadata": {
    "tags": []
   },
   "source": [
    "## Import"
   ]
  },
  {
   "cell_type": "code",
   "execution_count": 1,
   "id": "2ca2b13c-2ac5-4463-84b4-84fa49630461",
   "metadata": {},
   "outputs": [],
   "source": [
    "import pandas as pd"
   ]
  }
 ],
 "metadata": {
  "kernelspec": {
   "display_name": "main_env",
   "language": "python",
   "name": "main_env"
  },
  "language_info": {
   "codemirror_mode": {
    "name": "ipython",
    "version": 3
   },
   "file_extension": ".py",
   "mimetype": "text/x-python",
   "name": "python",
   "nbconvert_exporter": "python",
   "pygments_lexer": "ipython3",
   "version": "3.8.11"
  }
 },
 "nbformat": 4,
 "nbformat_minor": 5
}
