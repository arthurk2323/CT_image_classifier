{
 "cells": [
  {
   "cell_type": "markdown",
   "id": "c36b3769-3bce-4fde-8fc4-6e1a91529230",
   "metadata": {},
   "source": [
    "# [Insert Title]"
   ]
  },
  {
   "cell_type": "markdown",
   "id": "f22aedf8-5560-4124-af7f-e4224807048a",
   "metadata": {
    "tags": []
   },
   "source": [
    "### Authors"
   ]
  },
  {
   "cell_type": "markdown",
   "id": "ea2c7579-8870-46bd-b1e8-9e5b41852e95",
   "metadata": {},
   "source": [
    "* Mia Fryer\n",
    "* Arthur Kim\n",
    "* Ian Sharff"
   ]
  },
  {
   "cell_type": "markdown",
   "id": "f3986674-ad38-4610-a604-24cb172f6034",
   "metadata": {},
   "source": [
    "## Overview"
   ]
  },
  {
   "cell_type": "markdown",
   "id": "6556b6ff-ec30-4d9c-8a76-9e064076ba61",
   "metadata": {},
   "source": [
    "## Business Problem"
   ]
  },
  {
   "cell_type": "markdown",
   "id": "1e2af742-fcbe-4784-bbc2-4617e72b7f25",
   "metadata": {
    "jp-MarkdownHeadingCollapsed": true,
    "tags": []
   },
   "source": [
    "## Data Understanding"
   ]
  },
  {
   "cell_type": "markdown",
   "id": "de1ec5c9-04c4-4ddb-aa45-508351e51c11",
   "metadata": {
    "tags": []
   },
   "source": [
    "## Import"
   ]
  },
  {
   "cell_type": "code",
   "execution_count": 4,
   "id": "2ca2b13c-2ac5-4463-84b4-84fa49630461",
   "metadata": {},
   "outputs": [],
   "source": [
    "import pandas as pd\n",
    "import os, shutil"
   ]
  },
  {
   "cell_type": "code",
   "execution_count": 3,
   "id": "371b56ce-12b3-46af-a2c7-84cd5a4281d9",
   "metadata": {},
   "outputs": [
    {
     "name": "stdout",
     "output_type": "stream",
     "text": [
      "/Users/arthur/Documents/Flatiron/phase_4/Project/CT_image_classifier\n"
     ]
    }
   ],
   "source": [
    "cd .."
   ]
  },
  {
   "cell_type": "code",
   "execution_count": 9,
   "id": "08e51f27-2062-4fc9-808d-d29e78aa04eb",
   "metadata": {},
   "outputs": [],
   "source": [
    "imgs_pneu_test = [file for file in os.listdir('data/test/PNEUMONIA') if file.endswith('.jpeg')]\n",
    "imgs_non_pneu_test = [file for file in os.listdir('data/test/NORMAL') if file.endswith('.jpeg')]\n",
    "imgs_pneu_train = [file for file in os.listdir('data/train/PNEUMONIA') if file.endswith('.jpeg')]\n",
    "imgs_non_pneu_train = [file for file in os.listdir('data/train/NORMAL') if file.endswith('.jpeg')]\n",
    "imgs_pneu_val = [file for file in os.listdir('data/val/PNEUMONIA') if file.endswith('.jpeg')]\n",
    "imgs_non_pneu_val = [file for file in os.listdir('data/val/NORMAL') if file.endswith('.jpeg')]"
   ]
  },
  {
   "cell_type": "code",
   "execution_count": 10,
   "id": "c7a5e597-f0c9-4aaf-96c7-dbc9388faa6b",
   "metadata": {},
   "outputs": [
    {
     "name": "stdout",
     "output_type": "stream",
     "text": [
      "3875\n",
      "1341\n",
      "8\n",
      "8\n",
      "390\n",
      "234\n"
     ]
    }
   ],
   "source": [
    "print(len(imgs_pneu_train))\n",
    "print(len(imgs_non_pneu_train))\n",
    "print(len(imgs_pneu_val))\n",
    "print(len(imgs_non_pneu_val))\n",
    "print(len(imgs_pneu_test))\n",
    "print(len(imgs_non_pneu_test))"
   ]
  },
  {
   "cell_type": "code",
   "execution_count": 16,
   "id": "f5c4411d-5c89-4519-948d-46dcae181fb6",
   "metadata": {},
   "outputs": [
    {
     "data": {
      "text/plain": [
       "4273"
      ]
     },
     "execution_count": 16,
     "metadata": {},
     "output_type": "execute_result"
    }
   ],
   "source": [
    "len(imgs_pneu_train)+len(imgs_pneu_val)+len(imgs_pneu_test)"
   ]
  },
  {
   "cell_type": "code",
   "execution_count": 17,
   "id": "2e047f18-e7ee-46a3-b452-0f7c4c1e818a",
   "metadata": {},
   "outputs": [
    {
     "data": {
      "text/plain": [
       "1583"
      ]
     },
     "execution_count": 17,
     "metadata": {},
     "output_type": "execute_result"
    }
   ],
   "source": [
    "len(imgs_non_pneu_train)+len(imgs_non_pneu_val)+len(imgs_non_pneu_test)"
   ]
  },
  {
   "cell_type": "code",
   "execution_count": 15,
   "id": "06dc4bc6-0e4c-41fb-81a9-97566c6e4e0a",
   "metadata": {},
   "outputs": [
    {
     "ename": "AttributeError",
     "evalue": "'list' object has no attribute 'shape'",
     "output_type": "error",
     "traceback": [
      "\u001b[0;31m---------------------------------------------------------------------------\u001b[0m",
      "\u001b[0;31mAttributeError\u001b[0m                            Traceback (most recent call last)",
      "\u001b[0;32m<ipython-input-15-b02ebed414a5>\u001b[0m in \u001b[0;36m<module>\u001b[0;34m\u001b[0m\n\u001b[0;32m----> 1\u001b[0;31m \u001b[0mimgs_pneu_train\u001b[0m\u001b[0;34m.\u001b[0m\u001b[0mshape\u001b[0m\u001b[0;34m\u001b[0m\u001b[0;34m\u001b[0m\u001b[0m\n\u001b[0m",
      "\u001b[0;31mAttributeError\u001b[0m: 'list' object has no attribute 'shape'"
     ]
    }
   ],
   "source": [
    "imgs_pneu_train.shape"
   ]
  }
 ],
 "metadata": {
  "kernelspec": {
   "display_name": "main_env",
   "language": "python",
   "name": "main_env"
  },
  "language_info": {
   "codemirror_mode": {
    "name": "ipython",
    "version": 3
   },
   "file_extension": ".py",
   "mimetype": "text/x-python",
   "name": "python",
   "nbconvert_exporter": "python",
   "pygments_lexer": "ipython3",
   "version": "3.8.11"
  }
 },
 "nbformat": 4,
 "nbformat_minor": 5
}
